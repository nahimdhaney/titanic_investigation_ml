{
 "cells": [
  {
   "cell_type": "code",
   "execution_count": 1,
   "metadata": {},
   "outputs": [],
   "source": [
    "#Importando Librerias\n",
    "\n",
    "import numpy as np\n",
    "import pandas as pd"
   ]
  },
  {
   "cell_type": "code",
   "execution_count": 2,
   "metadata": {},
   "outputs": [],
   "source": [
    "# obteniendo los datos\n",
    "df_test = pd.read_csv(\"test.csv\")\n",
    "df_train = pd.read_csv(\"train.csv\")"
   ]
  },
  {
   "cell_type": "code",
   "execution_count": 3,
   "metadata": {},
   "outputs": [
    {
     "name": "stdout",
     "output_type": "stream",
     "text": [
      "(418, 11)\n",
      "(891, 12)\n",
      "PassengerId      0\n",
      "Survived         0\n",
      "Pclass           0\n",
      "Name             0\n",
      "Sex              0\n",
      "Age            177\n",
      "SibSp            0\n",
      "Parch            0\n",
      "Ticket           0\n",
      "Fare             0\n",
      "Cabin          687\n",
      "Embarked         2\n",
      "dtype: int64\n",
      "PassengerId      0\n",
      "Survived         0\n",
      "Pclass           0\n",
      "Name             0\n",
      "Sex              0\n",
      "Age            177\n",
      "SibSp            0\n",
      "Parch            0\n",
      "Ticket           0\n",
      "Fare             0\n",
      "Cabin          687\n",
      "Embarked         2\n",
      "dtype: int64\n"
     ]
    }
   ],
   "source": [
    "#print(df_test.head())\n",
    "print(df_test.shape)\n",
    "print(df_train.shape)\n",
    "#print(df_train.info())\n",
    "print(pd.isnull(df_train).sum())\n",
    "print(pd.isnull(df_train).sum())"
   ]
  },
  {
   "cell_type": "code",
   "execution_count": 4,
   "metadata": {},
   "outputs": [
    {
     "name": "stdout",
     "output_type": "stream",
     "text": [
      "       PassengerId    Survived      Pclass         Age       SibSp  \\\n",
      "count   891.000000  891.000000  891.000000  714.000000  891.000000   \n",
      "mean    446.000000    0.383838    2.308642   29.699118    0.523008   \n",
      "std     257.353842    0.486592    0.836071   14.526497    1.102743   \n",
      "min       1.000000    0.000000    1.000000    0.420000    0.000000   \n",
      "25%     223.500000    0.000000    2.000000   20.125000    0.000000   \n",
      "50%     446.000000    0.000000    3.000000   28.000000    0.000000   \n",
      "75%     668.500000    1.000000    3.000000   38.000000    1.000000   \n",
      "max     891.000000    1.000000    3.000000   80.000000    8.000000   \n",
      "\n",
      "            Parch        Fare  \n",
      "count  891.000000  891.000000  \n",
      "mean     0.381594   32.204208  \n",
      "std      0.806057   49.693429  \n",
      "min      0.000000    0.000000  \n",
      "25%      0.000000    7.910400  \n",
      "50%      0.000000   14.454200  \n",
      "75%      0.000000   31.000000  \n",
      "max      6.000000  512.329200  \n",
      "       PassengerId      Pclass         Age       SibSp       Parch        Fare\n",
      "count   418.000000  418.000000  332.000000  418.000000  418.000000  417.000000\n",
      "mean   1100.500000    2.265550   30.272590    0.447368    0.392344   35.627188\n",
      "std     120.810458    0.841838   14.181209    0.896760    0.981429   55.907576\n",
      "min     892.000000    1.000000    0.170000    0.000000    0.000000    0.000000\n",
      "25%     996.250000    1.000000   21.000000    0.000000    0.000000    7.895800\n",
      "50%    1100.500000    3.000000   27.000000    0.000000    0.000000   14.454200\n",
      "75%    1204.750000    3.000000   39.000000    1.000000    0.000000   31.500000\n",
      "max    1309.000000    3.000000   76.000000    8.000000    9.000000  512.329200\n"
     ]
    },
    {
     "data": {
      "text/plain": [
       "'\\nCómo los datos tienen una media relativamente razonable se puede deducir que cualquier información en el ds de entrenamient\\n'"
      ]
     },
     "execution_count": 4,
     "metadata": {},
     "output_type": "execute_result"
    }
   ],
   "source": [
    "# Visualizando las estadísticas del dataset\n",
    "print(df_train.describe())\n",
    "print(df_test.describe())\n",
    "'''\n",
    "Cómo los datos tienen una media relativamente razonable se puede deducir que cualquier información en el ds de entrenamient\n",
    "'''\n"
   ]
  },
  {
   "cell_type": "code",
   "execution_count": 5,
   "metadata": {},
   "outputs": [],
   "source": [
    "### Preparación de datos ####\n",
    "\n",
    "# Cambio cambio de datos de sexos a números\n",
    "df_train['Sex'].replace(['female','male'],[0,1],inplace=True)\n",
    "df_test['Sex'].replace(['female','male'],[0,1],inplace=True)\n",
    "# Cambio cambio de datos de sexos a números\n",
    "df_train['Embarked'].replace(['Q','S','C'],[0,1,2],inplace=True)\n",
    "df_test['Embarked'].replace(['Q','S','C'],[0,1,2],inplace=True)\n"
   ]
  },
  {
   "cell_type": "code",
   "execution_count": 6,
   "metadata": {},
   "outputs": [
    {
     "name": "stdout",
     "output_type": "stream",
     "text": [
      "29.69911764705882\n",
      "30.272590361445783\n"
     ]
    }
   ],
   "source": [
    "\n",
    "# Reemplazo los datos faltantes en la edad por la media de la columna 'edad' valga la redundancia :)\n",
    "print(df_train[\"Age\"].mean())\n",
    "print(df_test[\"Age\"].mean())\n",
    "promedio = 30;\n",
    "df_train[\"Age\"] = df_train['Age'].replace(np.nan,promedio)\n",
    "df_test[\"Age\"]  = df_train['Age'].replace(np.nan,promedio)\n",
    "#Creando grupos de acuerdo a bandas de las edades que me identifican.\n",
    "bins = [0,8,15,18,25,40,60,100]\n",
    "names = ['1','2','3','4','5','6','7']\n",
    "df_train['Age'] = pd.cut(df_train['Age'],bins,labels = names)\n",
    "df_test['Age'] = pd.cut(df_test['Age'],bins,labels = names)\n",
    "#Eliminando la columna cabina porque tienen muchos datos y puede influir negativamente \n",
    "#En mi inferencia.\n",
    "df_train.drop(['Cabin'],axis = 1,inplace=True)\n",
    "df_test.drop(['Cabin'],axis = 1,inplace=True)\n",
    "\n",
    "#Elimino las columnas que considero que no son necesarias para el análisis\n",
    "df_train = df_train.drop(['PassengerId','Name','Ticket'],axis=1)\n",
    "df_test = df_test.drop(['Name','Ticket'],axis=1)\n",
    "\n",
    "#Se Elimina las filas con datos perdidos (todo es vacio)\n",
    "df_train.dropna(axis=0,how='any',inplace=True)\n",
    "df_test.dropna(axis=0,how='any',inplace=True)"
   ]
  },
  {
   "cell_type": "code",
   "execution_count": 7,
   "metadata": {},
   "outputs": [
    {
     "name": "stdout",
     "output_type": "stream",
     "text": [
      "Survived    0\n",
      "Pclass      0\n",
      "Sex         0\n",
      "Age         0\n",
      "SibSp       0\n",
      "Parch       0\n",
      "Fare        0\n",
      "Embarked    0\n",
      "dtype: int64\n",
      "PassengerId    0\n",
      "Pclass         0\n",
      "Sex            0\n",
      "Age            0\n",
      "SibSp          0\n",
      "Parch          0\n",
      "Fare           0\n",
      "Embarked       0\n",
      "dtype: int64\n",
      "(889, 8)\n",
      "(417, 8)\n",
      "   Survived  Pclass  Sex Age  SibSp  Parch     Fare  Embarked\n",
      "0         0       3    1   4      1      0   7.2500       1.0\n",
      "1         1       1    0   5      1      0  71.2833       2.0\n",
      "2         1       3    0   5      0      0   7.9250       1.0\n",
      "3         1       1    0   5      1      0  53.1000       1.0\n",
      "4         0       3    1   5      0      0   8.0500       1.0\n",
      "   PassengerId  Pclass  Sex Age  SibSp  Parch     Fare  Embarked\n",
      "0          892       3    1   4      0      0   7.8292         0\n",
      "1          893       3    0   5      1      0   7.0000         1\n",
      "2          894       2    1   5      0      0   9.6875         0\n",
      "3          895       3    1   5      0      0   8.6625         1\n",
      "4          896       3    0   5      1      1  12.2875         1\n"
     ]
    }
   ],
   "source": [
    "# verico los datos\n",
    "print(pd.isnull(df_train).sum())\n",
    "print(pd.isnull(df_test).sum())\n",
    "\n",
    "print(df_train.shape)\n",
    "print(df_test.shape)\n",
    "\n",
    "print(df_train.head())\n",
    "print(df_test.head())"
   ]
  },
  {
   "cell_type": "code",
   "execution_count": 8,
   "metadata": {},
   "outputs": [],
   "source": [
    "'''\n",
    "Aplicando los algoritmos de Machine Learning\n",
    "- Regressión lineal \n",
    "- Support Vector Machine\n",
    "- K - Neighbors.\n",
    "'''\n",
    "# Importando las librerias \n",
    "\n",
    "from sklearn.model_selection import train_test_split\n",
    "from sklearn.linear_model import LogisticRegression\n",
    "from sklearn.svm import SVC\n",
    "from sklearn.neighbors import KNeighborsClassifier\n"
   ]
  },
  {
   "cell_type": "code",
   "execution_count": 11,
   "metadata": {},
   "outputs": [
    {
     "name": "stdout",
     "output_type": "stream",
     "text": [
      "(889, 7)\n",
      "(889,)\n",
      "Precisión Regresión Logística\n",
      "0.8087201125175809\n",
      "Precisión Sporte de vectores\n",
      "0.6765119549929677\n",
      "Precisión Vecino más cercano\n",
      "0.8790436005625879\n"
     ]
    },
    {
     "name": "stderr",
     "output_type": "stream",
     "text": [
      "D:\\Users\\nahim\\miniconda3\\lib\\site-packages\\sklearn\\linear_model\\_logistic.py:764: ConvergenceWarning: lbfgs failed to converge (status=1):\n",
      "STOP: TOTAL NO. of ITERATIONS REACHED LIMIT.\n",
      "\n",
      "Increase the number of iterations (max_iter) or scale the data as shown in:\n",
      "    https://scikit-learn.org/stable/modules/preprocessing.html\n",
      "Please also refer to the documentation for alternative solver options:\n",
      "    https://scikit-learn.org/stable/modules/linear_model.html#logistic-regression\n",
      "  extra_warning_msg=_LOGISTIC_SOLVER_CONVERGENCE_MSG)\n"
     ]
    },
    {
     "data": {
      "image/png": "[encoded data removed]",
      "text/plain": [
       "<Figure size 432x288 with 1 Axes>"
      ]
     },
     "metadata": {
      "needs_background": "light"
     },
     "output_type": "display_data"
    }
   ],
   "source": [
    "# Separo la columna con la información de los sobrevivientes\n",
    "x = np.array(df_train.drop(['Survived'],1))\n",
    "y = np.array(df_train['Survived'])\n",
    "\n",
    "#Separo los datos de \"train\" en entrenamiento y Prueba para realizar los algoritmos\n",
    "x_train,x_test,y_train,y_test = train_test_split(x,y,test_size=0.2)\n",
    "\n",
    "print(x.shape) #datos a entrenar\n",
    "print(y.shape) #resultado\n",
    "\n",
    "#Regresión Logística\n",
    "logreg = LogisticRegression() #defino el metodo\n",
    "logreg.fit(x_train,y_train) #Training\n",
    "y_pred = logreg.predict(x_test) # Testing\n",
    "print(\"Precisión Regresión Logística\")\n",
    "print(logreg.score(x_train,y_train))\n",
    "#Support Vector Machine \n",
    "svc = SVC() #defino el metodo\n",
    "svc.fit(x_train,y_train) #Training\n",
    "y_pred = svc.predict(x_test) # Testing\n",
    "print(\"Precisión Sporte de vectores\")\n",
    "print(svc.score(x_train,y_train))\n",
    "#K Neighbors\n",
    "knn = KNeighborsClassifier(n_neighbors=3) #defino el metodo\n",
    "knn.fit(x_train,y_train) #Training\n",
    "y_pred = svc.predict(x_test) # Testing\n",
    "print(\"Precisión Vecino más cercano\")\n",
    "print(knn.score(x_train,y_train))\n",
    "\n",
    "\n",
    "from sklearn.metrics import plot_roc_curve\n",
    "import matplotlib.pyplot as plt\n",
    "ax = plt.gca()\n",
    "log_disp = plot_roc_curve(logreg, x_test, y_test, ax=ax,alpha=0.8)\n",
    "svc_disp = plot_roc_curve(svc, x_test, y_test, ax=ax, alpha=0.8)\n",
    "rfc_disp = plot_roc_curve(knn, x_test, y_test, ax=ax, alpha=0.8)\n",
    "plt.show()"
   ]
  },
  {
   "cell_type": "code",
   "execution_count": 12,
   "metadata": {},
   "outputs": [],
   "source": [
    "#Create a function within many Machine Learning Models\n",
    "def models(X_train,Y_train):\n",
    "  \n",
    "  #Using Logistic Regression Algorithm to the Training Set\n",
    "  from sklearn.linear_model import LogisticRegression\n",
    "  log = LogisticRegression(random_state = 0)\n",
    "  log.fit(X_train, Y_train)\n",
    "  \n",
    "  #Using KNeighborsClassifier Method of neighbors class to use Nearest Neighbor algorithm\n",
    "  from sklearn.neighbors import KNeighborsClassifier\n",
    "  knn = KNeighborsClassifier(n_neighbors = 5, metric = 'minkowski', p = 2)\n",
    "  knn.fit(X_train, Y_train)\n",
    "\n",
    "  #Using SVC method of svm class to use Support Vector Machine Algorithm\n",
    "  from sklearn.svm import SVC\n",
    "  svc_lin = SVC(kernel = 'linear', random_state = 0)\n",
    "  svc_lin.fit(X_train, Y_train)\n",
    "\n",
    "  #Using SVC method of svm class to use Kernel SVM Algorithm\n",
    "  from sklearn.svm import SVC\n",
    "  svc_rbf = SVC(kernel = 'rbf', random_state = 0)\n",
    "  svc_rbf.fit(X_train, Y_train)\n",
    "\n",
    "  #Using GaussianNB method of naïve_bayes class to use Naïve Bayes Algorithm\n",
    "  from sklearn.naive_bayes import GaussianNB\n",
    "  gauss = GaussianNB()\n",
    "  gauss.fit(X_train, Y_train)\n",
    "\n",
    "  #Using DecisionTreeClassifier of tree class to use Decision Tree Algorithm\n",
    "  from sklearn.tree import DecisionTreeClassifier\n",
    "  tree = DecisionTreeClassifier(criterion = 'entropy', random_state = 0)\n",
    "  tree.fit(X_train, Y_train)\n",
    "\n",
    "  #Using RandomForestClassifier method of ensemble class to use Random Forest Classification algorithm\n",
    "  from sklearn.ensemble import RandomForestClassifier\n",
    "  forest = RandomForestClassifier(n_estimators = 10, criterion = 'entropy', random_state = 0)\n",
    "  forest.fit(X_train, Y_train)\n",
    "  \n",
    "  #print model accuracy on the training data.\n",
    "  print('[0]Logistic Regression Training Accuracy:', log.score(X_train, Y_train))\n",
    "  print('[1]K Nearest Neighbor Training Accuracy:', knn.score(X_train, Y_train))\n",
    "  print('[2]Support Vector Machine (Linear Classifier) Training Accuracy:', svc_lin.score(X_train, Y_train))\n",
    "  print('[3]Support Vector Machine (RBF Classifier) Training Accuracy:', svc_rbf.score(X_train, Y_train))\n",
    "  print('[4]Gaussian Naive Bayes Training Accuracy:', gauss.score(X_train, Y_train))\n",
    "  print('[5]Decision Tree Classifier Training Accuracy:', tree.score(X_train, Y_train))\n",
    "  print('[6]Random Forest Classifier Training Accuracy:', forest.score(X_train, Y_train))\n",
    "  \n",
    "  return log, knn, svc_lin, svc_rbf, gauss, tree, forest"
   ]
  },
  {
   "cell_type": "code",
   "execution_count": 14,
   "metadata": {},
   "outputs": [
    {
     "name": "stderr",
     "output_type": "stream",
     "text": [
      "D:\\Users\\nahim\\miniconda3\\lib\\site-packages\\sklearn\\linear_model\\_logistic.py:764: ConvergenceWarning: lbfgs failed to converge (status=1):\n",
      "STOP: TOTAL NO. of ITERATIONS REACHED LIMIT.\n",
      "\n",
      "Increase the number of iterations (max_iter) or scale the data as shown in:\n",
      "    https://scikit-learn.org/stable/modules/preprocessing.html\n",
      "Please also refer to the documentation for alternative solver options:\n",
      "    https://scikit-learn.org/stable/modules/linear_model.html#logistic-regression\n",
      "  extra_warning_msg=_LOGISTIC_SOLVER_CONVERGENCE_MSG)\n"
     ]
    },
    {
     "name": "stdout",
     "output_type": "stream",
     "text": [
      "[0]Logistic Regression Training Accuracy: 0.8087201125175809\n",
      "[1]K Nearest Neighbor Training Accuracy: 0.8438818565400844\n",
      "[2]Support Vector Machine (Linear Classifier) Training Accuracy: 0.790436005625879\n",
      "[3]Support Vector Machine (RBF Classifier) Training Accuracy: 0.6765119549929677\n",
      "[4]Gaussian Naive Bayes Training Accuracy: 0.7918424753867792\n",
      "[5]Decision Tree Classifier Training Accuracy: 0.9549929676511955\n",
      "[6]Random Forest Classifier Training Accuracy: 0.939521800281294\n"
     ]
    }
   ],
   "source": [
    "model = models(x_train,y_train)"
   ]
  },
  {
   "cell_type": "code",
   "execution_count": 19,
   "metadata": {},
   "outputs": [
    {
     "name": "stdout",
     "output_type": "stream",
     "text": [
      "[[99 11]\n",
      " [24 44]]\n",
      "Model[0] Testing Accuracy = \"0.8033707865168539 !\"\n",
      "\n",
      "[[95 15]\n",
      " [28 40]]\n",
      "Model[1] Testing Accuracy = \"0.7584269662921348 !\"\n",
      "\n",
      "[[95 15]\n",
      " [26 42]]\n",
      "Model[2] Testing Accuracy = \"0.7696629213483146 !\"\n",
      "\n",
      "[[100  10]\n",
      " [ 43  25]]\n",
      "Model[3] Testing Accuracy = \"0.702247191011236 !\"\n",
      "\n",
      "[[91 19]\n",
      " [18 50]]\n",
      "Model[4] Testing Accuracy = \"0.7921348314606742 !\"\n",
      "\n",
      "[[94 16]\n",
      " [24 44]]\n",
      "Model[5] Testing Accuracy = \"0.7752808988764045 !\"\n",
      "\n",
      "[[98 12]\n",
      " [25 43]]\n",
      "Model[6] Testing Accuracy = \"0.7921348314606742 !\"\n",
      "\n"
     ]
    }
   ],
   "source": [
    "from sklearn.metrics import confusion_matrix \n",
    "for i in range(len(model)):\n",
    "    cm = confusion_matrix(y_test, model[i].predict(x_test)) \n",
    "    #extracting TN, FP, FN, TP\n",
    "    TN, FP, FN, TP = confusion_matrix(y_test, model[i].predict(x_test)).ravel()\n",
    "    print(cm)\n",
    "    print('Model[{}] Testing Accuracy = \"{} !\"'.format(i,  (TP + TN) / (TP + TN + FN + FP)))\n",
    "    print()# Print a new line"
   ]
  }
 ],
 "metadata": {
  "kernelspec": {
   "display_name": "Python 3",
   "language": "python",
   "name": "python3"
  },
  "language_info": {
   "codemirror_mode": {
    "name": "ipython",
    "version": 3
   },
   "file_extension": ".py",
   "mimetype": "text/x-python",
   "name": "python",
   "nbconvert_exporter": "python",
   "pygments_lexer": "ipython3",
   "version": "3.7.6"
  }
 },
 "nbformat": 4,
 "nbformat_minor": 4
}
